{
 "cells": [
  {
   "cell_type": "markdown",
   "metadata": {},
   "source": [
    "# Feature_Compare.ipynb\n",
    "\n",
    "This notebook allows you to extract features from time-domain and frequency-domain waveforms. The features were designed to characterize the ovserall shape of the waveforms. The end of the notebook creates a pairplot for the extracted features for a sample of waveforms created by varying a single user-specified parameter. Images are saved to the `./images/` directory.\n",
    "\n",
    "Some of the functions used to extract features are inefficient and need to be optimized. Using this notebook to generate and plot a sample of 100 waveforms takes O(5 min), so if we want to do something like this on a larger dataset we will have to spend some time removing for-loops."
   ]
  },
  {
   "cell_type": "code",
   "execution_count": null,
   "metadata": {},
   "outputs": [],
   "source": [
    "# Standard imports\n",
    "import matplotlib.pyplot as plt\n",
    "import numpy as np\n",
    "import pandas as pd\n",
    "import seaborn as sns\n",
    "import sys\n",
    "\n",
    "# PyCBC imports\n",
    "from pycbc.waveform import get_td_waveform, get_fd_waveform\n",
    "from pycbc.waveform import td_approximants, fd_approximants\n",
    "from pycbc.detector import Detector\n",
    "from pycbc.filter import highpass\n",
    "from pycbc.catalog import Merger\n",
    "from pycbc.conversions import mass1_from_mchirp_q\n",
    "\n",
    "# Magic\n",
    "%matplotlib inline"
   ]
  },
  {
   "cell_type": "markdown",
   "metadata": {},
   "source": [
    "## Simulation of pure waveforms for many parameters"
   ]
  },
  {
   "cell_type": "markdown",
   "metadata": {},
   "source": [
    "Generate a random frequency-domain waveform if desired"
   ]
  },
  {
   "cell_type": "code",
   "execution_count": null,
   "metadata": {},
   "outputs": [],
   "source": [
    "masses = np.linspace(1.1, 2.0, 11)\n",
    "spins = np.linspace(-1., 1., 11)\n",
    "eccentricities = np.linspace(0., 1., 11)\n",
    "tidal_deformabilities = np.linspace(0., 1., 11) #Check value range\n",
    "quadrupole_monopoles = np.linspace(0., 1., 11) #Check value range\n",
    "octupolar_tidal_deformabilities = np.linspace(0., 1., 11) #Check value range\n",
    "quadrupolar_frequencies = np.linspace(1., 100., 11) #Check value range\n",
    "octupolar_frequencies = np.linspace(1., 100., 11) #Check value range\n",
    "distances = np.linspace(1., 200., 200)\n",
    "coalescence_phases = np.linspace(0., 2 * np.pi, 100)\n",
    "inclinations = np.linspace(0.0, np.pi / 2, 100)\n",
    "ascending_node_axis_longitudes = np.linspace(0., 2 * np.pi, 100)\n",
    "mean_anomalies = np.linspace(0., 2 * np.pi, 100)\n",
    "\n",
    "\n",
    "kwargs = [{'mass1': np.random.choice(masses, 1)[0],\n",
    "           'mass2': np.random.choice(masses, 1)[0],\n",
    "           'spin1z': np.random.choice(spins, 1)[0],\n",
    "           'spin2z': np.random.choice(spins, 1)[0],\n",
    "           'eccentricity': np.random.choice(eccentricities, 1)[0],\n",
    "           'lambda1': np.random.choice(tidal_deformabilities, 1)[0],\n",
    "           'lambda2': np.random.choice(tidal_deformabilities, 1)[0],\n",
    "           'dquad_mon1': np.random.choice(quadrupole_monopoles, 1)[0],\n",
    "           'dquad_mon2': np.random.choice(quadrupole_monopoles, 1)[0],\n",
    "           'lambda_octu1': np.random.choice(octupolar_tidal_deformabilities, 1)[0],\n",
    "           'lambda_octu2': np.random.choice(octupolar_tidal_deformabilities, 1)[0],\n",
    "           'quadfmode1': np.random.choice(quadrupolar_frequencies, 1)[0],\n",
    "           'quadfmode2': np.random.choice(quadrupolar_frequencies, 1)[0],\n",
    "           'octufmode1': np.random.choice(octupolar_frequencies, 1)[0],\n",
    "           'octufmode2': np.random.choice(octupolar_frequencies, 1)[0],\n",
    "           'distance': np.random.choice(distances, 1)[0],\n",
    "           'coa_phase': np.random.choice(coalescence_phases, 1)[0],\n",
    "           'inclination': np.random.choice(inclinations, 1)[0],\n",
    "           'long_asc_nodes': np.random.choice(ascending_node_axis_longitudes, 1)[0],\n",
    "           'mean_per_ano': np.random.choice(mean_anomalies, 1)[0],\n",
    "           'delta_f': 1./4096,\n",
    "           'f_lower': 20.,\n",
    "           'approximant': \"TaylorF2\", \n",
    "           'f_ref': 0\n",
    "          } for _ in range(30)]"
   ]
  },
  {
   "cell_type": "markdown",
   "metadata": {},
   "source": [
    "## Functions to calculate features"
   ]
  },
  {
   "cell_type": "code",
   "execution_count": null,
   "metadata": {},
   "outputs": [],
   "source": [
    "# Combine time and frequency features and load into dataframe\n",
    "def get_features(hp_t, hp_f):\n",
    "    cols = ['t_1', 't_2', 't_3', 't_4', 't_5', 'f_1', 'f_2', 'f_3', 'f_4', 'f_5']\n",
    "    data = get_features_t(hp_t) + get_features_f(hp_f)\n",
    "    return pd.DataFrame(data=[data], columns=cols)"
   ]
  },
  {
   "cell_type": "code",
   "execution_count": null,
   "metadata": {},
   "outputs": [],
   "source": [
    "# Extract features from time-domain waveform\n",
    "def get_features_t(hp):\n",
    "    data = []\n",
    "    \n",
    "    #Downselect window of waveform to be only 100 sec before merger\n",
    "    strains = hp.data[hp.sample_times > -100.0]\n",
    "    times = hp.sample_times[hp.sample_times > -100.0]\n",
    "    \n",
    "    #t_1 : amplitude, expected to directly relate to inclination\n",
    "    amp = np.max(strains)\n",
    "    data.append(amp)\n",
    "    \n",
    "    #t_2 : number of peaks above 0.25 * max amplitude to describe overal signal strength\n",
    "    data.append(count_peaks(strains[strains > 0.25 * amp]))\n",
    "    \n",
    "    #t_3 : number of peaks after max to describe ringdown behavior\n",
    "    time_of_max_amplitude = times[strains == amp][0]\n",
    "    data.append(count_peaks(strains[times > time_of_max_amplitude]))\n",
    "    \n",
    "    #t_4 : max amp / median amp to describe total rise\n",
    "    data.append(amp / np.median(strains))\n",
    "    \n",
    "    #t_5 : mean amp of normalized waveform to describe skew\n",
    "    data.append(np.mean(strains / amp))\n",
    "    \n",
    "    return data"
   ]
  },
  {
   "cell_type": "code",
   "execution_count": null,
   "metadata": {},
   "outputs": [],
   "source": [
    "# Extract features from frequency-domain waveform\n",
    "def get_features_f(hp):\n",
    "    data = []\n",
    "    \n",
    "    #Downselect window\n",
    "    strains = np.real(hp.data[hp.sample_frequencies < 1000.0])\n",
    "    frequencies = hp.sample_frequencies[hp.sample_frequencies < 1000.0]\n",
    "    \n",
    "    #t_1 : amplitude, expected to directly relate to inclination\n",
    "    amp = np.max(strains)\n",
    "    data.append(amp)\n",
    "    \n",
    "    #t_2 : number of peaks above 0.25 * max amplitude to describe overal signal strength\n",
    "    data.append(count_peaks(strains[strains > 0.25 * amp]))\n",
    "    \n",
    "    #t_3 : number of peaks after max to describe ringdown behavior\n",
    "    freq_of_max_amplitude = frequencies[strains == amp][0]\n",
    "    data.append(count_peaks(strains[frequencies > freq_of_max_amplitude]))\n",
    "    \n",
    "    #t_4 : max amp / median amp to describe total rise\n",
    "    if np.median(strains) != 0.0:\n",
    "        data.append(amp / np.median(strains))\n",
    "    else:\n",
    "        data.append(1.e8)\n",
    "    \n",
    "    #t_5 : mean amp of normalized waveform to describe skew\n",
    "    data.append(np.mean(strains / amp))\n",
    "    \n",
    "    return data"
   ]
  },
  {
   "cell_type": "code",
   "execution_count": null,
   "metadata": {},
   "outputs": [],
   "source": [
    "# Helper functions for feature extraction\n",
    "### These are inefficienct and need optimization\n",
    "\n",
    "def count_peaks(strains):\n",
    "    counter = 0\n",
    "    for ii in range(len(strains) - 2):\n",
    "        if strains[ii] < strains[ii+1] and strains[ii+1] > strains[ii+2]:\n",
    "            counter += 1\n",
    "    return counter\n",
    "\n",
    "def find_first_peak_amp(strains):\n",
    "    for ii in range(len(strains)):\n",
    "        if strain[ii] > strain[ii+1]:\n",
    "            return strain[ii]"
   ]
  },
  {
   "cell_type": "markdown",
   "metadata": {},
   "source": [
    "## Baseline time and frequency parameter settings"
   ]
  },
  {
   "cell_type": "code",
   "execution_count": null,
   "metadata": {},
   "outputs": [],
   "source": [
    "t_kwargs = {'mass1': 1.4,\n",
    "           'mass2': 1.4,\n",
    "           'spin1z': 1.0,\n",
    "           'spin2z': 1.0,\n",
    "           'eccentricity': 0.5,\n",
    "           'lambda1': 0.5,\n",
    "           'lambda2': 0.7,\n",
    "           'dquad_mon1': 0.5,\n",
    "           'dquad_mon2': 0.5,\n",
    "           'lambda_octu1': 0.3,\n",
    "           'lambda_octu2': 0.2,\n",
    "           'quadfmode1': 50.,\n",
    "           'quadfmode2': 45.,\n",
    "           'octufmode1': 100.,\n",
    "           'octufmode2': 70.,\n",
    "           'distance': 90.,\n",
    "           'coa_phase': 3.14,\n",
    "           'inclination': np.pi / 2.,\n",
    "           'long_asc_nodes': 0.3,\n",
    "           'mean_per_ano': 4.0,\n",
    "           'delta_t': 1./4096,\n",
    "           'f_lower': 20.,\n",
    "           'approximant': \"TaylorF2\", \n",
    "           'f_ref': 0}\n",
    "\n",
    "f_kwargs = {'mass1': 1.4,\n",
    "           'mass2': 1.4,\n",
    "           'spin1z': 1.0,\n",
    "           'spin2z': 1.0,\n",
    "           'eccentricity': 0.5,\n",
    "           'lambda1': 0.5,\n",
    "           'lambda2': 0.7,\n",
    "           'dquad_mon1': 0.5,\n",
    "           'dquad_mon2': 0.5,\n",
    "           'lambda_octu1': 0.3,\n",
    "           'lambda_octu2': 0.2,\n",
    "           'quadfmode1': 50.,\n",
    "           'quadfmode2': 45.,\n",
    "           'octufmode1': 100.,\n",
    "           'octufmode2': 70.,\n",
    "           'distance': 90.,\n",
    "           'coa_phase': 3.14,\n",
    "           'inclination': np.pi / 2.,\n",
    "           'long_asc_nodes': 0.3,\n",
    "           'mean_per_ano': 4.0,\n",
    "           'delta_f': 1./4096,\n",
    "           'f_lower': 20.,\n",
    "           'approximant': \"TaylorF2\", \n",
    "           'f_ref': 0}"
   ]
  },
  {
   "cell_type": "markdown",
   "metadata": {},
   "source": [
    "## Step through a setting and evaluate waveform features"
   ]
  },
  {
   "cell_type": "code",
   "execution_count": null,
   "metadata": {},
   "outputs": [],
   "source": [
    "setting_name = 'coa_phase'\n",
    "setting_min = 0.\n",
    "setting_max = 2 * np.pi\n",
    "num_steps = 100\n",
    "setting_range = np.linspace(setting_min, setting_max, num_steps)\n",
    "\n",
    "########################################################\n",
    "\n",
    "dfs = []\n",
    "counter = 0\n",
    "for setting in setting_range:\n",
    "    #Track progress\n",
    "    counter += 1\n",
    "    sys.stdout.write('\\r%i / %i' %(counter, num_steps))\n",
    "    sys.stdout.flush()\n",
    "    \n",
    "    #Copy baseline dictionaries\n",
    "    t_kwargs_copy = t_kwargs.copy()\n",
    "    f_kwargs_copy = f_kwargs.copy()\n",
    "    \n",
    "    #Set the new setting value\n",
    "    t_kwargs_copy[setting_name] = setting\n",
    "    f_kwargs_copy[setting_name] = setting\n",
    "    \n",
    "    #Generate waveforms\n",
    "    hp_t, hc_t = get_td_waveform(**t_kwargs_copy)\n",
    "    hp_f, hc_f = get_fd_waveform(**f_kwargs_copy)\n",
    "    \n",
    "    #Calculate features\n",
    "    df = get_features(hp_t, hp_f)\n",
    "    dfs.append(df)\n",
    "\n",
    "df = pd.concat(dfs)"
   ]
  },
  {
   "cell_type": "markdown",
   "metadata": {},
   "source": [
    "Compare features and save pairplot to images directory"
   ]
  },
  {
   "cell_type": "code",
   "execution_count": null,
   "metadata": {},
   "outputs": [],
   "source": [
    "sns.pairplot(df)\n",
    "plt.savefig('images/%s.png' %setting_name)\n",
    "plt.show()"
   ]
  },
  {
   "cell_type": "code",
   "execution_count": null,
   "metadata": {},
   "outputs": [],
   "source": []
  }
 ],
 "metadata": {
  "kernelspec": {
   "display_name": "Python 2",
   "language": "python",
   "name": "python2"
  },
  "language_info": {
   "codemirror_mode": {
    "name": "ipython",
    "version": 2
   },
   "file_extension": ".py",
   "mimetype": "text/x-python",
   "name": "python",
   "nbconvert_exporter": "python",
   "pygments_lexer": "ipython2",
   "version": "2.7.15"
  }
 },
 "nbformat": 4,
 "nbformat_minor": 2
}
